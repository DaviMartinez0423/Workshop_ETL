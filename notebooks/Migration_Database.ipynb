{
 "cells": [
  {
   "cell_type": "code",
   "execution_count": 1,
   "metadata": {},
   "outputs": [],
   "source": [
    "import os\n",
    "import json\n",
    "import psycopg2\n",
    "import pandas as pd\n",
    "from sqlalchemy import create_engine"
   ]
  },
  {
   "cell_type": "code",
   "execution_count": 2,
   "metadata": {},
   "outputs": [],
   "source": [
    "with open('C:/Users/Usuario/Workshop_ETL/Workshop_ETL/config.json', encoding='utf-8') as f:\n",
    "    config = json.load(f)\n",
    "    \n",
    "user = config['POSTGRES_USER']\n",
    "password = config['POSTGRES_PASSWORD']\n",
    "host = config['POSTGRES_HOST']\n",
    "port = config['POSTGRES_PORT']\n",
    "database = config['POSTGRES_DB']"
   ]
  },
  {
   "cell_type": "code",
   "execution_count": 3,
   "metadata": {},
   "outputs": [
    {
     "name": "stdout",
     "output_type": "stream",
     "text": [
      "Tabla creada exitosamente\n",
      "Conexión a PostgreSQL cerrada\n"
     ]
    }
   ],
   "source": [
    "try:\n",
    "    connection = psycopg2.connect(\n",
    "        user=user,\n",
    "        password=password,\n",
    "        host=host,\n",
    "        port=port,\n",
    "        database=database\n",
    "    )\n",
    "    cursor = connection.cursor()\n",
    "\n",
    "    create_table_query = \"\"\"\n",
    "        CREATE TABLE IF NOT EXISTS workshop_table (\n",
    "            \"First Name\" VARCHAR(255),\n",
    "            \"Last Name\" VARCHAR(255),\n",
    "            \"Email\" VARCHAR(255),\n",
    "            \"Application Date\" DATE,\n",
    "            \"Country\" VARCHAR(255),\n",
    "            \"YOE\" INTEGER,\n",
    "            \"Seniority\" VARCHAR(255),\n",
    "            \"Technology\" VARCHAR(255),\n",
    "            \"Code Challenge Score\" INTEGER,\n",
    "            \"Technical Interview Score\" INTEGER\n",
    "        )\n",
    "    \"\"\"\n",
    "    cursor.execute(create_table_query)\n",
    "    connection.commit()\n",
    "    print(\"Tabla creada exitosamente\")\n",
    "\n",
    "except (Exception, psycopg2.Error) as error:\n",
    "    print(\"Error:\", error)\n",
    "\n",
    "finally:\n",
    "    if 'connection' in locals():\n",
    "        cursor.close()\n",
    "        connection.close()\n",
    "        print(\"Conexión a PostgreSQL cerrada\")"
   ]
  },
  {
   "cell_type": "code",
   "execution_count": 4,
   "metadata": {},
   "outputs": [
    {
     "data": {
      "text/plain": [
       "1000"
      ]
     },
     "execution_count": 4,
     "metadata": {},
     "output_type": "execute_result"
    }
   ],
   "source": [
    "with open('C:/Users/Usuario/Workshop_ETL/Workshop_ETL/config.json', encoding='utf-8') as f:\n",
    "    config = json.load(f)\n",
    "\n",
    "user = config['POSTGRES_USER']\n",
    "password = config['POSTGRES_PASSWORD']\n",
    "host = config['POSTGRES_HOST']\n",
    "port = config['POSTGRES_PORT']\n",
    "database = config['POSTGRES_DB']\n",
    "\n",
    "dataset_location = os.path.abspath('C:/Users/Usuario/Workshop_ETL/Workshop_ETL/dataset/candidates.csv')\n",
    "engine = create_engine(f\"postgresql+psycopg2://{user}:{password}@{host}:{port}/{database}\")\n",
    "\n",
    "df = pd.read_csv(dataset_location, delimiter=';')\n",
    "\n",
    "df.to_sql(name='workshop_table', con=engine, if_exists='append', index=False)\n"
   ]
  }
 ],
 "metadata": {
  "kernelspec": {
   "display_name": "Python 3",
   "language": "python",
   "name": "python3"
  },
  "language_info": {
   "codemirror_mode": {
    "name": "ipython",
    "version": 3
   },
   "file_extension": ".py",
   "mimetype": "text/x-python",
   "name": "python",
   "nbconvert_exporter": "python",
   "pygments_lexer": "ipython3",
   "version": "3.12.2"
  }
 },
 "nbformat": 4,
 "nbformat_minor": 2
}
